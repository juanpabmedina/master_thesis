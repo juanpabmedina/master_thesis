{
 "cells": [
  {
   "cell_type": "code",
   "execution_count": null,
   "id": "d18e6f7c",
   "metadata": {},
   "outputs": [],
   "source": [
    "import pickle\n",
    "from utils import plot_wins, plot_rewards, train_agent, evaluate_policy, evaluate_against_challenger\n"
   ]
  },
  {
   "cell_type": "code",
   "execution_count": 9,
   "id": "fdfcac75",
   "metadata": {},
   "outputs": [
    {
     "name": "stderr",
     "output_type": "stream",
     "text": [
      "Training Mode: MR: 100%|██████████| 100000/100000 [01:00<00:00, 1647.16it/s, games_played=3837]\n"
     ]
    }
   ],
   "source": [
    "# MR Mode\n",
    "agent_mr, _, rewards_mr = train_agent(mode='MR')\n"
   ]
  },
  {
   "cell_type": "code",
   "execution_count": 32,
   "id": "8814d386",
   "metadata": {},
   "outputs": [],
   "source": [
    "\n",
    "with open('trained_challenger.pkl', 'wb') as f:\n",
    "    pickle.dump(agent_mr, f)  # or agent_B, depending on which one you want as challenger"
   ]
  },
  {
   "cell_type": "code",
   "execution_count": 33,
   "id": "bd7ba00b",
   "metadata": {},
   "outputs": [
    {
     "name": "stderr",
     "output_type": "stream",
     "text": [
      "Training Mode: MC: 100%|██████████| 100000/100000 [01:52<00:00, 886.71it/s, games_played=9963]\n"
     ]
    }
   ],
   "source": [
    "# MC Mode (after you've saved a challenger)\n",
    "agent_mc, _, rewards_mc = train_agent(mode='MC')"
   ]
  },
  {
   "cell_type": "code",
   "execution_count": 34,
   "id": "a55d07c8",
   "metadata": {},
   "outputs": [],
   "source": [
    "with open('trained_mrc_agent.pkl', 'wb') as f:\n",
    "    pickle.dump(agent_mc, f)  # or agent_B, depending on which one you want as challenger"
   ]
  },
  {
   "cell_type": "code",
   "execution_count": 35,
   "id": "33a8acce",
   "metadata": {},
   "outputs": [
    {
     "name": "stderr",
     "output_type": "stream",
     "text": [
      "Training Mode: MM: 100%|██████████| 100000/100000 [01:54<00:00, 873.70it/s, games_played=24562]\n"
     ]
    }
   ],
   "source": [
    "# MM Mode\n",
    "agent_mm_a, agent_mm_b, rewards_mm = train_agent(mode='MM')"
   ]
  },
  {
   "cell_type": "code",
   "execution_count": 36,
   "id": "151d4fdc",
   "metadata": {},
   "outputs": [],
   "source": [
    "with open('trained_challenger.pkl', 'wb') as f:\n",
    "    pickle.dump(agent_mm_b, f)  # or agent_B, depending on which one you want as challenger"
   ]
  },
  {
   "cell_type": "code",
   "execution_count": 37,
   "id": "2dc27f67",
   "metadata": {},
   "outputs": [
    {
     "name": "stderr",
     "output_type": "stream",
     "text": [
      "Training Mode: MC: 100%|██████████| 100000/100000 [01:53<00:00, 878.48it/s, games_played=28645]\n"
     ]
    }
   ],
   "source": [
    "# MC Mode (after you've saved a challenger)\n",
    "agent_mmc, _, rewards_mmc = train_agent(mode='MC')"
   ]
  },
  {
   "cell_type": "code",
   "execution_count": 38,
   "id": "05e18a80",
   "metadata": {},
   "outputs": [],
   "source": [
    "with open('trained_mmc_agent.pkl', 'wb') as f:\n",
    "    pickle.dump(agent_mc, f)  # or agent_B, depending on which one you want as challenger"
   ]
  },
  {
   "cell_type": "markdown",
   "id": "3bb3dab6",
   "metadata": {},
   "source": [
    "## Evaluate"
   ]
  },
  {
   "cell_type": "code",
   "execution_count": 41,
   "id": "f10017e3",
   "metadata": {},
   "outputs": [
    {
     "name": "stdout",
     "output_type": "stream",
     "text": [
      "Evaluation over 1000 episodes:\n",
      "Wins: 821, Losses: 179, Draws: 0\n"
     ]
    }
   ],
   "source": [
    "evaluate_policy(agent_mr, agent_B=None, episodes=1000)"
   ]
  },
  {
   "cell_type": "code",
   "execution_count": 42,
   "id": "fc5a9972",
   "metadata": {},
   "outputs": [
    {
     "name": "stdout",
     "output_type": "stream",
     "text": [
      "Evaluation over 1000 episodes:\n",
      "Wins: 740, Losses: 260, Draws: 0\n"
     ]
    }
   ],
   "source": [
    "evaluate_policy(agent_mm_a, agent_B=None, episodes=1000)"
   ]
  },
  {
   "cell_type": "code",
   "execution_count": 43,
   "id": "0ce167a9",
   "metadata": {},
   "outputs": [
    {
     "name": "stdout",
     "output_type": "stream",
     "text": [
      "Evaluation over 1000 episodes:\n",
      "Wins: 495, Losses: 505, Draws: 0\n"
     ]
    }
   ],
   "source": [
    "evaluate_policy(agent_mm_a, agent_B=agent_mm_b, episodes=1000)"
   ]
  },
  {
   "cell_type": "code",
   "execution_count": 45,
   "id": "bd6a7ade",
   "metadata": {},
   "outputs": [
    {
     "name": "stdout",
     "output_type": "stream",
     "text": [
      "Evaluation vs Challenger over 1000 episodes:\n",
      "Wins: 503, Losses: 497, Draws: 0\n"
     ]
    }
   ],
   "source": [
    "evaluate_against_challenger(agent_path='trained_mmc_agent.pkl', challenger_path='trained_challenger.pkl', episodes=1000)"
   ]
  }
 ],
 "metadata": {
  "kernelspec": {
   "display_name": "marl_venv",
   "language": "python",
   "name": "python3"
  },
  "language_info": {
   "codemirror_mode": {
    "name": "ipython",
    "version": 3
   },
   "file_extension": ".py",
   "mimetype": "text/x-python",
   "name": "python",
   "nbconvert_exporter": "python",
   "pygments_lexer": "ipython3",
   "version": "3.8.10"
  }
 },
 "nbformat": 4,
 "nbformat_minor": 5
}
