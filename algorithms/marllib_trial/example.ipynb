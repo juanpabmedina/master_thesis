{
 "cells": [
  {
   "cell_type": "code",
   "execution_count": 1,
   "id": "79148541",
   "metadata": {},
   "outputs": [
    {
     "name": "stderr",
     "output_type": "stream",
     "text": [
      "\n"
     ]
    }
   ],
   "source": [
    "from marllib import marl"
   ]
  },
  {
   "cell_type": "code",
   "execution_count": 5,
   "id": "020b0e26",
   "metadata": {},
   "outputs": [
    {
     "name": "stdout",
     "output_type": "stream",
     "text": [
      "+------------+----------------+------------------------------------------------------------------------------------------------------------------------------------------------------------------------+-------------------------------------+----------------------------+\n",
      "| Env_Name   | Check_Status   | Error_Log                                                                                                                                                              | Config_File_Location                | Env_File_Location          |\n",
      "+============+================+========================================================================================================================================================================+=====================================+============================+\n",
      "| mpe        | Ready          | Null                                                                                                                                                                   | envs/base_env/config/mpe.yaml       | envs/base_env/mpe.py       |\n",
      "+------------+----------------+------------------------------------------------------------------------------------------------------------------------------------------------------------------------+-------------------------------------+----------------------------+\n",
      "| mamujoco   | Error          | No module named 'mujoco_py'. (HINT: you need to install mujoco_py, and also perform the setup instructions here: https://github.com/openai/mujoco-py/.)                | envs/base_env/config/mamujoco.yaml  | envs/base_env/mamujoco.py  |\n",
      "+------------+----------------+------------------------------------------------------------------------------------------------------------------------------------------------------------------------+-------------------------------------+----------------------------+\n",
      "| smac       | Error          | No module named 'smac'                                                                                                                                                 | envs/base_env/config/smac.yaml      | envs/base_env/smac.py      |\n",
      "+------------+----------------+------------------------------------------------------------------------------------------------------------------------------------------------------------------------+-------------------------------------+----------------------------+\n",
      "| football   | Error          | No module named 'gfootball'                                                                                                                                            | envs/base_env/config/football.yaml  | envs/base_env/football.py  |\n",
      "+------------+----------------+------------------------------------------------------------------------------------------------------------------------------------------------------------------------+-------------------------------------+----------------------------+\n",
      "| magent     | Error          | MAgent has been moved into its own package: MAgent2. Install with `pip install magent2`. For more information on the MAgent2 package, see https://magent2.farama.org/. | envs/base_env/config/magent.yaml    | envs/base_env/magent.py    |\n",
      "+------------+----------------+------------------------------------------------------------------------------------------------------------------------------------------------------------------------+-------------------------------------+----------------------------+\n",
      "| rware      | Error          | No module named 'rware'                                                                                                                                                | envs/base_env/config/rware.yaml     | envs/base_env/rware.py     |\n",
      "+------------+----------------+------------------------------------------------------------------------------------------------------------------------------------------------------------------------+-------------------------------------+----------------------------+\n",
      "| lbf        | Error          | No module named 'lbforaging'                                                                                                                                           | envs/base_env/config/lbf.yaml       | envs/base_env/lbf.py       |\n",
      "+------------+----------------+------------------------------------------------------------------------------------------------------------------------------------------------------------------------+-------------------------------------+----------------------------+\n",
      "| pommerman  | Error          | No module named 'pommerman'                                                                                                                                            | envs/base_env/config/pommerman.yaml | envs/base_env/pommerman.py |\n",
      "+------------+----------------+------------------------------------------------------------------------------------------------------------------------------------------------------------------------+-------------------------------------+----------------------------+\n",
      "| hanabi     | Error          | No module named 'cffi'                                                                                                                                                 | envs/base_env/config/hanabi.yaml    | envs/base_env/hanabi.py    |\n",
      "+------------+----------------+------------------------------------------------------------------------------------------------------------------------------------------------------------------------+-------------------------------------+----------------------------+\n",
      "| metadrive  | Error          | No module named 'metadrive'                                                                                                                                            | envs/base_env/config/metadrive.yaml | envs/base_env/metadrive.py |\n",
      "+------------+----------------+------------------------------------------------------------------------------------------------------------------------------------------------------------------------+-------------------------------------+----------------------------+\n",
      "| mate       | Error          | No module named 'mate'                                                                                                                                                 | envs/base_env/config/mate.yaml      | envs/base_env/mate.py      |\n",
      "+------------+----------------+------------------------------------------------------------------------------------------------------------------------------------------------------------------------+-------------------------------------+----------------------------+\n",
      "| gobigger   | Error          | No module named 'gobigger'                                                                                                                                             | envs/base_env/config/gobigger.yaml  | envs/base_env/gobigger.py  |\n",
      "+------------+----------------+------------------------------------------------------------------------------------------------------------------------------------------------------------------------+-------------------------------------+----------------------------+\n"
     ]
    },
    {
     "ename": "DeprecatedEnv",
     "evalue": "simple_spread_v2 is now deprecated, use simple_spread_v3 instead",
     "output_type": "error",
     "traceback": [
      "\u001b[0;31m---------------------------------------------------------------------------\u001b[0m",
      "\u001b[0;31mDeprecatedEnv\u001b[0m                             Traceback (most recent call last)",
      "Cell \u001b[0;32mIn[5], line 2\u001b[0m\n\u001b[1;32m      1\u001b[0m \u001b[38;5;66;03m# Step 1: Configure the environment\u001b[39;00m\n\u001b[0;32m----> 2\u001b[0m env \u001b[38;5;241m=\u001b[39m \u001b[43mmarl\u001b[49m\u001b[38;5;241;43m.\u001b[39;49m\u001b[43mmake_env\u001b[49m\u001b[43m(\u001b[49m\u001b[43menvironment_name\u001b[49m\u001b[38;5;241;43m=\u001b[39;49m\u001b[38;5;124;43m\"\u001b[39;49m\u001b[38;5;124;43mmpe\u001b[39;49m\u001b[38;5;124;43m\"\u001b[39;49m\u001b[43m,\u001b[49m\u001b[43m \u001b[49m\u001b[43mmap_name\u001b[49m\u001b[38;5;241;43m=\u001b[39;49m\u001b[38;5;124;43m\"\u001b[39;49m\u001b[38;5;124;43msimple_spread\u001b[39;49m\u001b[38;5;124;43m\"\u001b[39;49m\u001b[43m)\u001b[49m\n",
      "File \u001b[0;32m~/master_thesis/marl_venv/lib/python3.8/site-packages/marllib/marl/__init__.py:150\u001b[0m, in \u001b[0;36mmake_env\u001b[0;34m(environment_name, map_name, force_coop, **env_params)\u001b[0m\n\u001b[1;32m    148\u001b[0m \u001b[38;5;28;01melse\u001b[39;00m:\n\u001b[1;32m    149\u001b[0m     register_env(env_reg_name, \u001b[38;5;28;01mlambda\u001b[39;00m _: ENV_REGISTRY[env_config[\u001b[38;5;124m\"\u001b[39m\u001b[38;5;124menv\u001b[39m\u001b[38;5;124m\"\u001b[39m]](env_config[\u001b[38;5;124m\"\u001b[39m\u001b[38;5;124menv_args\u001b[39m\u001b[38;5;124m\"\u001b[39m]))\n\u001b[0;32m--> 150\u001b[0m     env \u001b[38;5;241m=\u001b[39m \u001b[43mENV_REGISTRY\u001b[49m\u001b[43m[\u001b[49m\u001b[43menv_config\u001b[49m\u001b[43m[\u001b[49m\u001b[38;5;124;43m\"\u001b[39;49m\u001b[38;5;124;43menv\u001b[39;49m\u001b[38;5;124;43m\"\u001b[39;49m\u001b[43m]\u001b[49m\u001b[43m]\u001b[49m\u001b[43m(\u001b[49m\u001b[43menv_config\u001b[49m\u001b[43m[\u001b[49m\u001b[38;5;124;43m\"\u001b[39;49m\u001b[38;5;124;43menv_args\u001b[39;49m\u001b[38;5;124;43m\"\u001b[39;49m\u001b[43m]\u001b[49m\u001b[43m)\u001b[49m\n\u001b[1;32m    152\u001b[0m \u001b[38;5;28;01mreturn\u001b[39;00m env, env_config\n",
      "File \u001b[0;32m~/master_thesis/marl_venv/lib/python3.8/site-packages/marllib/envs/base_env/mpe.py:98\u001b[0m, in \u001b[0;36mRLlibMPE.__init__\u001b[0;34m(self, env_config)\u001b[0m\n\u001b[1;32m     96\u001b[0m \u001b[38;5;28mmap\u001b[39m \u001b[38;5;241m=\u001b[39m env_config[\u001b[38;5;124m\"\u001b[39m\u001b[38;5;124mmap_name\u001b[39m\u001b[38;5;124m\"\u001b[39m]\n\u001b[1;32m     97\u001b[0m env_config\u001b[38;5;241m.\u001b[39mpop(\u001b[38;5;124m\"\u001b[39m\u001b[38;5;124mmap_name\u001b[39m\u001b[38;5;124m\"\u001b[39m, \u001b[38;5;28;01mNone\u001b[39;00m)\n\u001b[0;32m---> 98\u001b[0m env \u001b[38;5;241m=\u001b[39m \u001b[43mREGISTRY\u001b[49m\u001b[43m[\u001b[49m\u001b[38;5;28;43mmap\u001b[39;49m\u001b[43m]\u001b[49m\u001b[43m(\u001b[49m\u001b[38;5;241;43m*\u001b[39;49m\u001b[38;5;241;43m*\u001b[39;49m\u001b[43menv_config\u001b[49m\u001b[43m)\u001b[49m\n\u001b[1;32m    100\u001b[0m \u001b[38;5;66;03m# keep obs and action dim same across agents\u001b[39;00m\n\u001b[1;32m    101\u001b[0m \u001b[38;5;66;03m# pad_action_space_v0 will auto mask the padding actions\u001b[39;00m\n\u001b[1;32m    102\u001b[0m env \u001b[38;5;241m=\u001b[39m ss\u001b[38;5;241m.\u001b[39mpad_observations_v0(env)\n",
      "File \u001b[0;32m~/master_thesis/marl_venv/lib/python3.8/site-packages/pettingzoo/utils/deprecated_module.py:17\u001b[0m, in \u001b[0;36mDeprecatedModule.__init__.<locals>.env\u001b[0;34m(*args, **kwargs)\u001b[0m\n\u001b[1;32m     16\u001b[0m \u001b[38;5;28;01mdef\u001b[39;00m\u001b[38;5;250m \u001b[39m\u001b[38;5;21menv\u001b[39m(\u001b[38;5;241m*\u001b[39margs, \u001b[38;5;241m*\u001b[39m\u001b[38;5;241m*\u001b[39mkwargs):\n\u001b[0;32m---> 17\u001b[0m     \u001b[38;5;28;01mraise\u001b[39;00m DeprecatedEnv(\n\u001b[1;32m     18\u001b[0m         \u001b[38;5;124mf\u001b[39m\u001b[38;5;124m\"\u001b[39m\u001b[38;5;132;01m{\u001b[39;00mname\u001b[38;5;132;01m}\u001b[39;00m\u001b[38;5;124m_v\u001b[39m\u001b[38;5;132;01m{\u001b[39;00mold_version\u001b[38;5;132;01m}\u001b[39;00m\u001b[38;5;124m is now deprecated, use \u001b[39m\u001b[38;5;132;01m{\u001b[39;00mname\u001b[38;5;132;01m}\u001b[39;00m\u001b[38;5;124m_v\u001b[39m\u001b[38;5;132;01m{\u001b[39;00mnew_version\u001b[38;5;132;01m}\u001b[39;00m\u001b[38;5;124m instead\u001b[39m\u001b[38;5;124m\"\u001b[39m\n\u001b[1;32m     19\u001b[0m     )\n",
      "\u001b[0;31mDeprecatedEnv\u001b[0m: simple_spread_v2 is now deprecated, use simple_spread_v3 instead"
     ]
    }
   ],
   "source": [
    "\n",
    "# Step 1: Configure the environment\n",
    "env = marl.make_env(environment_name=\"mpe\", map_name=\"simple_spread\")"
   ]
  },
  {
   "cell_type": "code",
   "execution_count": null,
   "id": "1b653a9c",
   "metadata": {},
   "outputs": [],
   "source": [
    "# Step 2: Configure the algorithm (e.g., IPPO)\n",
    "mappo = marl.algos.mappo(hyperparam_source=\"mpe\")"
   ]
  },
  {
   "cell_type": "code",
   "execution_count": null,
   "id": "f1f116f4",
   "metadata": {},
   "outputs": [],
   "source": [
    "model = marl.build_model(env, mappo, {\"core_arch\": \"mlp\", \"encode_layer\": \"128-256\"})"
   ]
  },
  {
   "cell_type": "code",
   "execution_count": null,
   "id": "6d190183",
   "metadata": {},
   "outputs": [
    {
     "ename": "NameError",
     "evalue": "name 'mappo' is not defined",
     "output_type": "error",
     "traceback": [
      "\u001b[0;31m---------------------------------------------------------------------------\u001b[0m",
      "\u001b[0;31mNameError\u001b[0m                                 Traceback (most recent call last)",
      "Cell \u001b[0;32mIn[1], line 2\u001b[0m\n\u001b[1;32m      1\u001b[0m \u001b[38;5;66;03m# start learning + extra experiment settings if needed. remember to check ray.yaml before use\u001b[39;00m\n\u001b[0;32m----> 2\u001b[0m \u001b[43mmappo\u001b[49m\u001b[38;5;241m.\u001b[39mfit(env, model, stop\u001b[38;5;241m=\u001b[39m{\u001b[38;5;124m'\u001b[39m\u001b[38;5;124mepisode_reward_mean\u001b[39m\u001b[38;5;124m'\u001b[39m: \u001b[38;5;241m2000\u001b[39m, \u001b[38;5;124m'\u001b[39m\u001b[38;5;124mtimesteps_total\u001b[39m\u001b[38;5;124m'\u001b[39m: \u001b[38;5;241m20000000\u001b[39m}, local_mode\u001b[38;5;241m=\u001b[39m\u001b[38;5;28;01mTrue\u001b[39;00m, num_gpus\u001b[38;5;241m=\u001b[39m\u001b[38;5;241m0\u001b[39m,\n\u001b[1;32m      3\u001b[0m           num_workers\u001b[38;5;241m=\u001b[39m\u001b[38;5;241m10\u001b[39m, share_policy\u001b[38;5;241m=\u001b[39m\u001b[38;5;124m'\u001b[39m\u001b[38;5;124mall\u001b[39m\u001b[38;5;124m'\u001b[39m, checkpoint_freq\u001b[38;5;241m=\u001b[39m\u001b[38;5;241m500\u001b[39m)\n",
      "\u001b[0;31mNameError\u001b[0m: name 'mappo' is not defined"
     ]
    }
   ],
   "source": [
    "# start learning + extra experiment settings if needed. remember to check ray.yaml before use\n",
    "mappo.fit(env, model, stop={'episode_reward_mean': 2000, 'timesteps_total': 20000000}, local_mode=True, num_gpus=1,\n",
    "          num_workers=10, share_policy='all', checkpoint_freq=500)"
   ]
  }
 ],
 "metadata": {
  "kernelspec": {
   "display_name": "marl_venv",
   "language": "python",
   "name": "python3"
  },
  "language_info": {
   "codemirror_mode": {
    "name": "ipython",
    "version": 3
   },
   "file_extension": ".py",
   "mimetype": "text/x-python",
   "name": "python",
   "nbconvert_exporter": "python",
   "pygments_lexer": "ipython3",
   "version": "3.8.10"
  }
 },
 "nbformat": 4,
 "nbformat_minor": 5
}
