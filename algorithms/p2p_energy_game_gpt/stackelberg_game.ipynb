{
 "cells": [
  {
   "cell_type": "code",
   "execution_count": 2,
   "id": "2e5a2ac5",
   "metadata": {},
   "outputs": [],
   "source": [
    "from scipy.optimize import minimize_scalar\n",
    "import numpy as np\n",
    "\n",
    "# Generator utility: optimize x, fix y\n",
    "def maximize_generator(x, y_fixed):\n",
    "    return x * y_fixed - (0.1 * x**2 + 2 * x)\n",
    "\n",
    "# Consumer utility: optimize y, fix x\n",
    "def maximize_consumer(y, x_fixed):\n",
    "    if y <= 0:\n",
    "        return -np.inf  # avoid log error\n",
    "    return x_fixed / np.log(1 + y)\n",
    "\n",
    "x0 = 0.6\n",
    "x_fixed = x0"
   ]
  },
  {
   "cell_type": "code",
   "execution_count": 3,
   "id": "9469a822",
   "metadata": {},
   "outputs": [
    {
     "data": {
      "text/plain": [
       " message: Solution found.\n",
       " success: True\n",
       "  status: 0\n",
       "     fun: -97.89947850863578\n",
       "       x: 0.999994667777491\n",
       "     nit: 25\n",
       "    nfev: 25"
      ]
     },
     "execution_count": 3,
     "metadata": {},
     "output_type": "execute_result"
    }
   ],
   "source": [
    "x0 = 100\n",
    "x_fixed = x0\n",
    "minimize_scalar(lambda y: -maximize_generator(y, x_fixed), bounds=(0.1, 1), method='bounded')"
   ]
  },
  {
   "cell_type": "code",
   "execution_count": 6,
   "id": "9b92fad6",
   "metadata": {},
   "outputs": [
    {
     "name": "stdout",
     "output_type": "stream",
     "text": [
      "-0.9999959801362373 0.9999944797665706\n",
      "-0.9999959801362373 0.9999944797665706\n",
      "-0.9999959801362373 0.9999944797665706\n",
      "-0.9999959801362373 0.9999944797665706\n",
      "-0.9999959801362373 0.9999944797665706\n",
      "-0.9999959801362373 0.9999944797665706\n",
      "-0.9999959801362373 0.9999944797665706\n",
      "-0.9999959801362373 0.9999944797665706\n",
      "-0.9999959801362373 0.9999944797665706\n",
      "-0.9999959801362373 0.9999944797665706\n"
     ]
    }
   ],
   "source": [
    "for i in range(10):\n",
    "    res_y = minimize_scalar(lambda y: -maximize_consumer(y, x_fixed), bounds=(0.1, 1), method='bounded')\n",
    "    best_y = res_y.x\n",
    "\n",
    "    y_fixed = best_y\n",
    "\n",
    "    res_x = minimize_scalar(lambda x: -maximize_generator(x, y_fixed), bounds=(-1, 1), method='bounded')\n",
    "    best_x = res_x.x\n",
    "\n",
    "    x_fixed = best_x\n",
    "\n",
    "    print(best_x, best_y)"
   ]
  },
  {
   "cell_type": "code",
   "execution_count": 22,
   "id": "6b71a944",
   "metadata": {},
   "outputs": [
    {
     "name": "stdout",
     "output_type": "stream",
     "text": [
      "0.010006640426076843 0.010005901252376685\n"
     ]
    }
   ],
   "source": [
    "print(best_x, best_y)"
   ]
  }
 ],
 "metadata": {
  "kernelspec": {
   "display_name": "marl_venv",
   "language": "python",
   "name": "python3"
  },
  "language_info": {
   "codemirror_mode": {
    "name": "ipython",
    "version": 3
   },
   "file_extension": ".py",
   "mimetype": "text/x-python",
   "name": "python",
   "nbconvert_exporter": "python",
   "pygments_lexer": "ipython3",
   "version": "3.8.10"
  }
 },
 "nbformat": 4,
 "nbformat_minor": 5
}
