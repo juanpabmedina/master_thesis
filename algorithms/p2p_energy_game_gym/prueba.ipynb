{
 "cells": [
  {
   "cell_type": "code",
   "execution_count": 1,
   "id": "be182bce",
   "metadata": {},
   "outputs": [],
   "source": [
    "import numpy as np\n",
    "import matplotlib.pyplot as plt\n",
    "from tqdm import tqdm\n",
    "from minimaxQAgent import MinimaxQAgent \n",
    "from energy_market_env import EnergyMarketEnv"
   ]
  },
  {
   "cell_type": "code",
   "execution_count": 2,
   "id": "8c4637a2",
   "metadata": {},
   "outputs": [],
   "source": [
    "env = EnergyMarketEnv(min_gen_power=0.1, max_gen_power=10.0,\n",
    "                      min_con_price=1, max_con_price=10, \n",
    "                      threshold=0)\n"
   ]
  },
  {
   "cell_type": "code",
   "execution_count": 3,
   "id": "8b52f85e",
   "metadata": {},
   "outputs": [],
   "source": [
    "agent1 = MinimaxQAgent(player_id='generator', actions=np.arange(3), opponent_actions=np.arange(3))\n",
    "agent2 = MinimaxQAgent(player_id='consumer', actions=np.arange(3), opponent_actions=np.arange(3))"
   ]
  },
  {
   "cell_type": "code",
   "execution_count": 10,
   "id": "2717546c",
   "metadata": {},
   "outputs": [
    {
     "name": "stderr",
     "output_type": "stream",
     "text": [
      "  0%|          | 0/1000 [00:00<?, ?it/s]\n"
     ]
    },
    {
     "ename": "TypeError",
     "evalue": "'numpy.float64' object is not iterable",
     "output_type": "error",
     "traceback": [
      "\u001b[0;31m---------------------------------------------------------------------------\u001b[0m",
      "\u001b[0;31mTypeError\u001b[0m                                 Traceback (most recent call last)",
      "Cell \u001b[0;32mIn[10], line 20\u001b[0m\n\u001b[1;32m     16\u001b[0m actions \u001b[38;5;241m=\u001b[39m {agent1\u001b[38;5;241m.\u001b[39mplayer_id: a1, agent2\u001b[38;5;241m.\u001b[39mplayer_id: a2}\n\u001b[1;32m     18\u001b[0m next_states, reward, done, _ \u001b[38;5;241m=\u001b[39m env\u001b[38;5;241m.\u001b[39mstep(actions, agent1\u001b[38;5;241m.\u001b[39mplayer_id)\n\u001b[0;32m---> 20\u001b[0m \u001b[43magent1\u001b[49m\u001b[38;5;241;43m.\u001b[39;49m\u001b[43mupdate\u001b[49m\u001b[43m(\u001b[49m\u001b[43mstate\u001b[49m\u001b[43m,\u001b[49m\u001b[43m \u001b[49m\u001b[43mactions\u001b[49m\u001b[43m[\u001b[49m\u001b[43magent1\u001b[49m\u001b[38;5;241;43m.\u001b[39;49m\u001b[43mplayer_id\u001b[49m\u001b[43m]\u001b[49m\u001b[43m,\u001b[49m\u001b[43m \u001b[49m\u001b[43mactions\u001b[49m\u001b[43m[\u001b[49m\u001b[43magent1\u001b[49m\u001b[38;5;241;43m.\u001b[39;49m\u001b[43mplayer_id\u001b[49m\u001b[43m]\u001b[49m\u001b[43m,\u001b[49m\u001b[43m \u001b[49m\u001b[43mreward\u001b[49m\u001b[43m[\u001b[49m\u001b[43magent2\u001b[49m\u001b[38;5;241;43m.\u001b[39;49m\u001b[43mplayer_id\u001b[49m\u001b[43m]\u001b[49m\u001b[43m,\u001b[49m\u001b[43m \u001b[49m\u001b[43mnext_states\u001b[49m\u001b[43m[\u001b[49m\u001b[43magent1\u001b[49m\u001b[38;5;241;43m.\u001b[39;49m\u001b[43mplayer_id\u001b[49m\u001b[43m]\u001b[49m\u001b[43m)\u001b[49m\n\u001b[1;32m     21\u001b[0m agent2\u001b[38;5;241m.\u001b[39mupdate(state, actions[agent2\u001b[38;5;241m.\u001b[39mplayer_id], actions[agent2\u001b[38;5;241m.\u001b[39mplayer_id], reward[agent1\u001b[38;5;241m.\u001b[39mplayer_id], next_states[agent2\u001b[38;5;241m.\u001b[39mplayer_id])\n\u001b[1;32m     23\u001b[0m states \u001b[38;5;241m=\u001b[39m next_states\n",
      "File \u001b[0;32m~/master_thesis/algorithms/p2p_energy_game_gym/minimaxQAgent.py:72\u001b[0m, in \u001b[0;36mMinimaxQAgent.update\u001b[0;34m(self, state, action, opponent_action, reward, next_state)\u001b[0m\n\u001b[1;32m     70\u001b[0m \u001b[38;5;28;01mdef\u001b[39;00m\u001b[38;5;250m \u001b[39m\u001b[38;5;21mupdate\u001b[39m(\u001b[38;5;28mself\u001b[39m, state, action, opponent_action, reward, next_state):\n\u001b[1;32m     71\u001b[0m     state_key \u001b[38;5;241m=\u001b[39m \u001b[38;5;28mself\u001b[39m\u001b[38;5;241m.\u001b[39mget_state_key(state)\n\u001b[0;32m---> 72\u001b[0m     next_state_key \u001b[38;5;241m=\u001b[39m \u001b[38;5;28;43mself\u001b[39;49m\u001b[38;5;241;43m.\u001b[39;49m\u001b[43mget_state_key\u001b[49m\u001b[43m(\u001b[49m\u001b[43mnext_state\u001b[49m\u001b[43m)\u001b[49m\n\u001b[1;32m     74\u001b[0m     q \u001b[38;5;241m=\u001b[39m \u001b[38;5;28mself\u001b[39m\u001b[38;5;241m.\u001b[39mget_q(state_key, action, opponent_action)\n\u001b[1;32m     75\u001b[0m     next_v \u001b[38;5;241m=\u001b[39m \u001b[38;5;28mself\u001b[39m\u001b[38;5;241m.\u001b[39mv_values\u001b[38;5;241m.\u001b[39mget(next_state_key, \u001b[38;5;241m1\u001b[39m)\n",
      "File \u001b[0;32m~/master_thesis/algorithms/p2p_energy_game_gym/minimaxQAgent.py:27\u001b[0m, in \u001b[0;36mMinimaxQAgent.get_state_key\u001b[0;34m(self, state)\u001b[0m\n\u001b[1;32m     26\u001b[0m \u001b[38;5;28;01mdef\u001b[39;00m\u001b[38;5;250m \u001b[39m\u001b[38;5;21mget_state_key\u001b[39m(\u001b[38;5;28mself\u001b[39m, state):\n\u001b[0;32m---> 27\u001b[0m     \u001b[38;5;28;01mreturn\u001b[39;00m \u001b[38;5;28;43mtuple\u001b[39;49m\u001b[43m(\u001b[49m\u001b[43mstate\u001b[49m\u001b[43m)\u001b[49m\n",
      "\u001b[0;31mTypeError\u001b[0m: 'numpy.float64' object is not iterable"
     ]
    }
   ],
   "source": [
    "total_steps = 1000\n",
    "eval_interval = 100\n",
    "reward_history = []\n",
    "step_count = 0\n",
    "\n",
    "with tqdm(total=total_steps) as pbar:\n",
    "    states, _ = env.reset()\n",
    "\n",
    "    while step_count < total_steps:\n",
    "        \n",
    "        state = (agent1.player_id, agent2.player_id)\n",
    "\n",
    "        a1 = agent1.select_action(state)\n",
    "        a2 = agent2.select_action(state)\n",
    "\n",
    "        actions = {agent1.player_id: a1, agent2.player_id: a2}\n",
    "\n",
    "        next_states, reward, done, _ = env.step(actions, agent1.player_id)\n",
    "\n",
    "        agent1.update(state, actions[agent1.player_id], actions[agent1.player_id], reward[agent2.player_id], next_states[agent1.player_id])\n",
    "        agent2.update(state, actions[agent2.player_id], actions[agent2.player_id], reward[agent1.player_id], next_states[agent2.player_id])\n",
    "\n",
    "        states = next_states\n",
    "        \n",
    "        cumulative_reward += reward['generator']\n",
    "        step_count += 1\n",
    "\n",
    "        if done:\n",
    "            states, _ = env.reset()\n",
    "            games_played += 1\n",
    "\n",
    "        if step_count % eval_interval == 0:\n",
    "            reward_history.append(cumulative_reward)\n",
    "            cumulative_reward = 0\n",
    "            pbar.set_postfix(games_played=games_played)\n",
    "        \n",
    "        pbar.update(1)"
   ]
  }
 ],
 "metadata": {
  "kernelspec": {
   "display_name": "marl_venv",
   "language": "python",
   "name": "python3"
  },
  "language_info": {
   "codemirror_mode": {
    "name": "ipython",
    "version": 3
   },
   "file_extension": ".py",
   "mimetype": "text/x-python",
   "name": "python",
   "nbconvert_exporter": "python",
   "pygments_lexer": "ipython3",
   "version": "3.8.10"
  }
 },
 "nbformat": 4,
 "nbformat_minor": 5
}
