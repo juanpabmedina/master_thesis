{
 "cells": [
  {
   "cell_type": "code",
   "execution_count": 1,
   "id": "ad87a176",
   "metadata": {},
   "outputs": [],
   "source": [
    "import numpy as np\n",
    "from scipy.optimize import minimize"
   ]
  },
  {
   "cell_type": "code",
   "execution_count": 2,
   "id": "b66bb27e",
   "metadata": {},
   "outputs": [],
   "source": [
    "def social_welfare(x, a, b, c, epsilon=1e-8):\n",
    "    \"\"\"\n",
    "    x[0] = P: Power\n",
    "    x[1] = price: Price\n",
    "    \"\"\"\n",
    "    P = x[0]\n",
    "    price = x[1]\n",
    "\n",
    "    # Generator cost\n",
    "    Hg = a * P**2 + b * P + c\n",
    "\n",
    "    # Generator profit\n",
    "    gen_profit = P * price - Hg\n",
    "\n",
    "    # Consumer utility\n",
    "    con_profit = P * (1 / np.log(1 + price + epsilon))\n",
    "\n",
    "    # Social welfare: sum of both\n",
    "    return -(gen_profit + con_profit)  # Negative for maximization\n"
   ]
  },
  {
   "cell_type": "code",
   "execution_count": 5,
   "id": "b212ddaa",
   "metadata": {},
   "outputs": [
    {
     "name": "stdout",
     "output_type": "stream",
     "text": [
      "Optimal Power: 1.0\n",
      "Optimal Price: 0.1\n",
      "Max Social Welfare: 8.392057686499935\n"
     ]
    }
   ],
   "source": [
    "# Coefficients\n",
    "a = 0.2\n",
    "b = 2\n",
    "c = 0\n",
    "\n",
    "# Initial guess: P=1, price=1\n",
    "x0 = [1, 1]\n",
    "\n",
    "# Bounds for P and price (must be >0 to avoid log issues)\n",
    "bounds = [(0.1, 1), (0.1, 1)]\n",
    "\n",
    "res = minimize(social_welfare, x0, args=(a, b, c), bounds=bounds)\n",
    "\n",
    "# Results\n",
    "opt_P, opt_price = res.x\n",
    "max_social_welfare = -res.fun\n",
    "\n",
    "print(f\"Optimal Power: {opt_P}\")\n",
    "print(f\"Optimal Price: {opt_price}\")\n",
    "print(f\"Max Social Welfare: {max_social_welfare}\")\n"
   ]
  }
 ],
 "metadata": {
  "kernelspec": {
   "display_name": "marl_venv",
   "language": "python",
   "name": "python3"
  },
  "language_info": {
   "codemirror_mode": {
    "name": "ipython",
    "version": 3
   },
   "file_extension": ".py",
   "mimetype": "text/x-python",
   "name": "python",
   "nbconvert_exporter": "python",
   "pygments_lexer": "ipython3",
   "version": "3.8.10"
  }
 },
 "nbformat": 4,
 "nbformat_minor": 5
}
